{
 "cells": [
  {
   "cell_type": "markdown",
   "metadata": {},
   "source": [
    "# **Method 3 - Traffic Sign Classification using Pytorch**\n",
    "**Neural Networks - Final project <br>**\n",
    "**Submitted by:** Team Rocket (Ajay, Akshita, Jonatas, Angelica, Kuldeep) <br>\n",
    "**Instructor:** Mohammad Islam"
   ]
  },
  {
   "cell_type": "code",
   "execution_count": 49,
   "metadata": {
    "id": "3ZypLdr3pZ2B"
   },
   "outputs": [],
   "source": [
    "# Import libraries\n",
    "import torch\n",
    "import torch.nn as nn\n",
    "import torch.nn.functional as F\n",
    "import torchvision\n",
    "import torchvision.transforms as transforms\n",
    "import matplotlib.pyplot as plt\n",
    "import numpy as np\n",
    "import pickle\n",
    "import pandas as pd\n",
    "from PIL import Image"
   ]
  },
  {
   "cell_type": "code",
   "execution_count": 2,
   "metadata": {
    "colab": {
     "base_uri": "https://localhost:8080/"
    },
    "id": "HsVsB7g0U2wW",
    "outputId": "9617ceac-7436-43cc-cb13-bbadddf640d1"
   },
   "outputs": [
    {
     "name": "stdout",
     "output_type": "stream",
     "text": [
      "Drive already mounted at /content/drive; to attempt to forcibly remount, call drive.mount(\"/content/drive\", force_remount=True).\n"
     ]
    }
   ],
   "source": [
    "from google.colab import drive\n",
    "drive.mount('/content/drive')"
   ]
  },
  {
   "cell_type": "code",
   "execution_count": 3,
   "metadata": {
    "id": "--gfoI1-rFNM"
   },
   "outputs": [],
   "source": [
    "# Device configuration\n",
    "device = torch.device('cuda' if torch.cuda.is_available else 'gpu')"
   ]
  },
  {
   "cell_type": "code",
   "execution_count": 4,
   "metadata": {
    "id": "n6p5ig1qsS5H"
   },
   "outputs": [],
   "source": [
    "# transformation of input image\n",
    "transform = transforms.Compose([transforms.ToTensor(),\n",
    "                                transforms.Normalize((0.5, 0.5, 0.5), (0.5, 0.5, 0.5))])"
   ]
  },
  {
   "cell_type": "code",
   "execution_count": 5,
   "metadata": {
    "id": "O02AklGikFGn"
   },
   "outputs": [],
   "source": [
    "# Open the pkl documents\n",
    "with open('/content/drive/My Drive/NN/train.pkl', 'rb') as f:\n",
    "  train_data = pickle.load(f)\n",
    "with open('/content/drive/My Drive/NN/test.pkl', 'rb') as f:\n",
    "  test_data = pickle.load(f)"
   ]
  },
  {
   "cell_type": "code",
   "execution_count": 6,
   "metadata": {
    "id": "9827ViMAkk-p"
   },
   "outputs": [],
   "source": [
    "data=train_data['features'][100]"
   ]
  },
  {
   "cell_type": "code",
   "execution_count": 7,
   "metadata": {
    "colab": {
     "base_uri": "https://localhost:8080/",
     "height": 284
    },
    "id": "jJRV8hQ3j3Yz",
    "outputId": "1a7ad390-7fa1-40fb-d8e0-2bacba7cdfb9"
   },
   "outputs": [
    {
     "data": {
      "text/plain": [
       "<matplotlib.image.AxesImage at 0x7ff64659c750>"
      ]
     },
     "execution_count": 7,
     "metadata": {
      "tags": []
     },
     "output_type": "execute_result"
    },
    {
     "data": {
      "image/png": "[encoded data removed]",
      "text/plain": [
       "<Figure size 432x288 with 1 Axes>"
      ]
     },
     "metadata": {
      "needs_background": "light",
      "tags": []
     },
     "output_type": "display_data"
    }
   ],
   "source": [
    "from PIL import Image\n",
    "img = Image.fromarray(data, 'RGB')\n",
    "plt.imshow(img)"
   ]
  },
  {
   "cell_type": "markdown",
   "metadata": {},
   "source": [
    "## Data pre-processing"
   ]
  },
  {
   "cell_type": "code",
   "execution_count": 8,
   "metadata": {
    "colab": {
     "base_uri": "https://localhost:8080/"
    },
    "id": "ehzp_pd4j3cq",
    "outputId": "1b495330-378d-4210-9ad1-16fddbdfa455"
   },
   "outputs": [
    {
     "name": "stdout",
     "output_type": "stream",
     "text": [
      "(34799, 32, 32, 3)\n",
      "(12630, 32, 32, 3)\n"
     ]
    }
   ],
   "source": [
    "# Create datasets\n",
    "X_train , y_train = train_data['features'], train_data['labels']\n",
    "X_test , y_test = test_data['features'], test_data['labels']\n",
    "\n",
    "# Check the data shape\n",
    "# trainset were created at 32px RGB format (hence, depth 3)\n",
    "print(X_train.shape)\n",
    "print(X_test.shape)\n",
    "\n",
    "# Normalize dataset\n",
    "X_train_norm = X_train/255\n",
    "X_test_norm = X_test/255"
   ]
  },
  {
   "cell_type": "code",
   "execution_count": 9,
   "metadata": {
    "id": "8FK-wDPKj3g2"
   },
   "outputs": [],
   "source": [
    "# converting training images into torch format\n",
    "train_x = X_train_norm.reshape(-1,3,32,32).astype(np.float32) \n",
    "train_x  = torch.from_numpy(train_x)\n",
    "\n",
    "# converting the target into torch format\n",
    "train_y = y_train.astype(int);\n",
    "train_y = torch.from_numpy(train_y)\n",
    "\n",
    "# converting test images into torch format\n",
    "test_x = X_test_norm.reshape(-1,3,32,32).astype(np.float32)       \n",
    "test_x  = torch.from_numpy(test_x)\n",
    "\n",
    "# converting the target into torch format\n",
    "test_y = y_test.astype(int);\n",
    "test_y = torch.from_numpy(test_y)"
   ]
  },
  {
   "cell_type": "code",
   "execution_count": 10,
   "metadata": {
    "colab": {
     "base_uri": "https://localhost:8080/"
    },
    "id": "xPvlEx_Y7Por",
    "outputId": "c9691f8a-72ff-4d73-8555-977c366a5b33"
   },
   "outputs": [
    {
     "data": {
      "text/plain": [
       "tensor([ 0,  1,  2,  3,  4,  5,  6,  7,  8,  9, 10, 11, 12, 13, 14, 15, 16, 17,\n",
       "        18, 19, 20, 21, 22, 23, 24, 25, 26, 27, 28, 29, 30, 31, 32, 33, 34, 35,\n",
       "        36, 37, 38, 39, 40, 41, 42])"
      ]
     },
     "execution_count": 10,
     "metadata": {
      "tags": []
     },
     "output_type": "execute_result"
    }
   ],
   "source": [
    "train_y.unique()"
   ]
  },
  {
   "cell_type": "code",
   "execution_count": 11,
   "metadata": {
    "colab": {
     "base_uri": "https://localhost:8080/"
    },
    "id": "gBCKzef0j3j3",
    "outputId": "9560cbc4-fd37-478e-b0ff-9e772f877db6"
   },
   "outputs": [
    {
     "data": {
      "text/plain": [
       "(torch.Size([34799, 3, 32, 32]),\n",
       " torch.Size([34799]),\n",
       " torch.Size([12630, 3, 32, 32]),\n",
       " torch.Size([12630]))"
      ]
     },
     "execution_count": 11,
     "metadata": {
      "tags": []
     },
     "output_type": "execute_result"
    }
   ],
   "source": [
    "train_x.shape, train_y.shape,test_x.shape, test_y.shape"
   ]
  },
  {
   "cell_type": "code",
   "execution_count": 12,
   "metadata": {
    "id": "71ra1CFOqISW"
   },
   "outputs": [],
   "source": [
    "# Converting to torch dataloader\n",
    "import torch.utils as utils\n",
    "\n",
    "train_data = utils.data.TensorDataset(train_x, train_y)\n",
    "train_loader = utils.data.DataLoader(train_data)"
   ]
  },
  {
   "cell_type": "code",
   "execution_count": 13,
   "metadata": {
    "id": "fbGTwR-PqzYO"
   },
   "outputs": [],
   "source": [
    "def imshow(img):\n",
    "  img = img / 2 + 0.5\n",
    "  npimg = img.numpy()\n",
    "  plt.imshow(np.transpose(npimg, (1, 2, 0)))\n",
    "  plt.show()"
   ]
  },
  {
   "cell_type": "code",
   "execution_count": 14,
   "metadata": {
    "colab": {
     "base_uri": "https://localhost:8080/",
     "height": 266
    },
    "id": "2yYU3cvbq3uR",
    "outputId": "3914a7c0-64ea-428c-b507-52874e400f71"
   },
   "outputs": [
    {
     "data": {
      "image/png": "[encoded data removed]",
      "text/plain": [
       "<Figure size 432x288 with 1 Axes>"
      ]
     },
     "metadata": {
      "needs_background": "light",
      "tags": []
     },
     "output_type": "display_data"
    }
   ],
   "source": [
    "dataiter = iter(train_loader)\n",
    "images, labels = dataiter.next()\n",
    "\n",
    "# show image\n",
    "imshow(torchvision.utils.make_grid(images))"
   ]
  },
  {
   "cell_type": "markdown",
   "metadata": {
    "id": "55dv_gFHv5hz"
   },
   "source": [
    "## **CNN Model**"
   ]
  },
  {
   "cell_type": "code",
   "execution_count": 31,
   "metadata": {
    "colab": {
     "base_uri": "https://localhost:8080/"
    },
    "id": "MKbTlxWTv4--",
    "outputId": "8fbee3d3-54c1-45d0-d7b9-eaa2a49d8d7e"
   },
   "outputs": [
    {
     "name": "stdout",
     "output_type": "stream",
     "text": [
      "ConvNet2(\n",
      "  (conv1): Conv2d(3, 16, kernel_size=(3, 3), stride=(1, 1), padding=(1, 1))\n",
      "  (conv2): Conv2d(16, 32, kernel_size=(3, 3), stride=(1, 1), padding=(1, 1))\n",
      "  (conv3): Conv2d(32, 64, kernel_size=(3, 3), stride=(1, 1), padding=(1, 1))\n",
      "  (pool): MaxPool2d(kernel_size=2, stride=2, padding=0, dilation=1, ceil_mode=False)\n",
      "  (fc1): Linear(in_features=1024, out_features=512, bias=True)\n",
      "  (fc2): Linear(in_features=512, out_features=64, bias=True)\n",
      "  (fc3): Linear(in_features=64, out_features=43, bias=True)\n",
      "  (dropout): Dropout(p=0.5, inplace=False)\n",
      ")\n"
     ]
    }
   ],
   "source": [
    "## Model 1\n",
    "class ConvNet(nn.Module):\n",
    "  def __init__(self):\n",
    "    super(ConvNet, self).__init__()\n",
    "    self.conv1 = nn.Conv2d(3, 6, 5) #input depth, output depth, filter\n",
    "    self.pool = nn.MaxPool2d(2, 2)\n",
    "    self.conv2 = nn.Conv2d(6, 16, 5)\n",
    "    self.fc1 = nn.Linear(16 *5 *5, 128)\n",
    "    self.fc2 = nn.Linear(128, 64)\n",
    "    self.fc3 = nn.Linear(64, 43)\n",
    "\n",
    "  def forward(self, x):\n",
    "    # --> n, 3, 32, 32\n",
    "    x = self.pool(F.relu(self.conv1(x))) # --> n, 6, 14, 14\n",
    "    x = self.pool(F.relu(self.conv2(x))) # --> n, 16, 5, 5\n",
    "    x = x.view(-1, 16 * 5 * 5)           # --> 400 (flatten)\n",
    "    x = F.relu(self.fc1(x))              # --> n, 128\n",
    "    x = F.relu(self.fc2(x))              # --> n, 64\n",
    "    x = self.fc3(x)                      # --> n, 10\n",
    "    return x\n",
    "\n",
    "## Model 2\n",
    "class ConvNet2(nn.Module):\n",
    "    def __init__(self):\n",
    "        super(ConvNet2, self).__init__()\n",
    "        # convolutional layer\n",
    "        self.conv1 = nn.Conv2d(3, 16, 3, padding=1)\n",
    "        self.conv2 = nn.Conv2d(16, 32, 3, padding=1)\n",
    "        self.conv3 = nn.Conv2d(32, 64, 3, padding=1)\n",
    "        self.pool = nn.MaxPool2d(2, 2)\n",
    "        # fully connected layers\n",
    "        self.fc1 = nn.Linear(64 * 4 * 4, 512)\n",
    "        self.fc2 = nn.Linear(512, 64)\n",
    "        self.fc3 = nn.Linear(64, 43)\n",
    "        # dropout\n",
    "        self.dropout = nn.Dropout(p=.5)\n",
    "\n",
    "    def forward(self, x):\n",
    "        # add sequence of convolutional and max pooling layers\n",
    "        x = self.pool(F.relu(self.conv1(x)))\n",
    "        x = self.pool(F.relu(self.conv2(x)))\n",
    "        x = self.pool(F.relu(self.conv3(x)))\n",
    "        # flattening\n",
    "        x = x.view(-1, 64 * 4 * 4)\n",
    "        # fully connected layers\n",
    "        x = self.dropout(F.relu(self.fc1(x)))\n",
    "        x = self.dropout(F.relu(self.fc2(x)))\n",
    "        x = self.fc3(x)\n",
    "        return x\n",
    "\n",
    "device = 'cpu'\n",
    "model = ConvNet2().to(device)\n",
    "print(model)"
   ]
  },
  {
   "cell_type": "code",
   "execution_count": null,
   "metadata": {
    "id": "QABBaucJ4WDB"
   },
   "outputs": [],
   "source": [
    "# define hyperparameters\n",
    "num_epochs = 5\n",
    "batch_size = 5\n",
    "learning_rate = 0.001\n",
    "criterion = nn.CrossEntropyLoss()\n",
    "optimizer = torch.optim.SGD(model.parameters(), lr=learning_rate)\n",
    "n_total_steps = len(train_loader) "
   ]
  },
  {
   "cell_type": "code",
   "execution_count": 53,
   "metadata": {
    "colab": {
     "base_uri": "https://localhost:8080/"
    },
    "id": "ACKhRxz0JRf9",
    "outputId": "3bf551f7-4114-4905-fc48-a76a95d9bb14"
   },
   "outputs": [
    {
     "name": "stdout",
     "output_type": "stream",
     "text": [
      "\n",
      "Epoch : 5\n",
      "Train Loss: 0.000 | Accuracy: 2.270\n"
     ]
    }
   ],
   "source": [
    "def train(epoch):\n",
    "  print('\\nEpoch : %d'%epoch)\n",
    "  model.train()\n",
    " \n",
    "  running_loss=0\n",
    "  correct=0\n",
    "  total=0\n",
    "  train_losses=[]\n",
    "  train_acc=[]\n",
    "\n",
    "  for i, (images, labels) in enumerate(train_loader):\n",
    "    images = images.to(device)\n",
    "    labels = labels.to(device)\n",
    "\n",
    "    # forward pass\n",
    "    outputs = model(images)\n",
    "    loss = criterion(outputs, labels)\n",
    "\n",
    "    # backward propagation and optimize\n",
    "    optimizer.zero_grad()\n",
    "    loss.backward()\n",
    "    optimizer.step\n",
    "\n",
    "    _, predicted = outputs.max(1)\n",
    "    total += labels.size(0)\n",
    "    correct += predicted.eq(labels).sum().item()\n",
    "       \n",
    "  train_loss=running_loss/len(train_loader)\n",
    "  acc=100.*correct/total\n",
    "   \n",
    "  train_acc.append(acc)\n",
    "  train_losses.append(train_loss)\n",
    "  print('Train Loss: %.3f | Accuracy: %.3f'%(train_loss,acc))\n",
    "\n",
    "# Run training with N epochs\n",
    "train(5)"
   ]
  },
  {
   "cell_type": "code",
   "execution_count": 54,
   "metadata": {
    "id": "ieaOFeXNVxdY"
   },
   "outputs": [],
   "source": [
    "# Save the model\n",
    "PATH = '/content/drive/My Drive/NN/cnn.pth'\n",
    "torch.save(model.state_dict(), PATH)"
   ]
  }
 ],
 "metadata": {
  "accelerator": "GPU",
  "colab": {
   "collapsed_sections": [],
   "name": "CNN_Modelling_PyTorch.ipynb",
   "provenance": []
  },
  "kernelspec": {
   "display_name": "Python 3",
   "language": "python",
   "name": "python3"
  },
  "language_info": {
   "codemirror_mode": {
    "name": "ipython",
    "version": 3
   },
   "file_extension": ".py",
   "mimetype": "text/x-python",
   "name": "python",
   "nbconvert_exporter": "python",
   "pygments_lexer": "ipython3",
   "version": "3.8.10"
  }
 },
 "nbformat": 4,
 "nbformat_minor": 1
}
