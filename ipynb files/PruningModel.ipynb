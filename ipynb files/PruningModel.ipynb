{
  "nbformat": 4,
  "nbformat_minor": 0,
  "metadata": {
    "colab": {
      "name": "PruningModel.ipynb",
      "provenance": [],
      "collapsed_sections": []
    },
    "kernelspec": {
      "name": "python3",
      "display_name": "Python 3"
    },
    "language_info": {
      "name": "python"
    },
    "accelerator": "GPU"
  },
  "cells": [
    {
      "cell_type": "markdown",
      "metadata": {
        "id": "8-54WGYINCVu"
      },
      "source": [
        "## **Preparing cnn file and dataset**"
      ]
    },
    {
      "cell_type": "code",
      "metadata": {
        "id": "SoUFATNdFZ95"
      },
      "source": [
        "!pip install -q tensorflow-model-optimization"
      ],
      "execution_count": null,
      "outputs": []
    },
    {
      "cell_type": "code",
      "metadata": {
        "colab": {
          "base_uri": "https://localhost:8080/"
        },
        "id": "aS6ZVLRCIZGn",
        "outputId": "937b1119-d982-451d-83ab-b7838863af08"
      },
      "source": [
        "from google.colab import drive\n",
        "drive.mount('/content/drive')"
      ],
      "execution_count": null,
      "outputs": [
        {
          "output_type": "stream",
          "text": [
            "Drive already mounted at /content/drive; to attempt to forcibly remount, call drive.mount(\"/content/drive\", force_remount=True).\n"
          ],
          "name": "stdout"
        }
      ]
    },
    {
      "cell_type": "code",
      "metadata": {
        "id": "uMwm7Ig_Md4z"
      },
      "source": [
        "# Loading files\n",
        "import pickle\n",
        "\n",
        "keras_file = '/content/drive/My Drive/Colab Notebooks/Capstone/testing/Outdoor_Living/outdoor_living.h5'\n",
        "X = pickle.load(open(\"/content/drive/My Drive/Colab Notebooks/Capstone/testing/Outdoor_Living/X_Outdoor_Living.pickle\", \"rb\"))\n",
        "y = pickle.load(open(\"/content/drive/My Drive/Colab Notebooks/Capstone/testing/Outdoor_Living/y_Outdoor_Living.pickle\", \"rb\"))\n",
        "categories = pickle.load(open(\"/content/drive/My Drive/Colab Notebooks/Capstone/testing/Outdoor_Living/Outdoor_Living_categories.pickle\", \"rb\"))"
      ],
      "execution_count": null,
      "outputs": []
    },
    {
      "cell_type": "code",
      "metadata": {
        "id": "sMtb0ellZnxo",
        "colab": {
          "base_uri": "https://localhost:8080/"
        },
        "outputId": "e628f938-ab17-4a24-9bb2-17e1596c52b9"
      },
      "source": [
        "# Prepare dataset, we need to fit this to new pruned model.\n",
        "# Accuracy should be the same or higher\n",
        "\n",
        "from sklearn.model_selection import train_test_split\n",
        "from keras.utils.np_utils import to_categorical\n",
        "\n",
        "X_train, X_test, y_train, y_test = train_test_split(X, y, test_size=0.3, random_state=101)\n",
        "num_classes = len(categories)\n",
        "\n",
        "X_train = X_train.astype('float32')\n",
        "X_test = X_test.astype('float32')\n",
        "X_train /= 255.0\n",
        "X_test /= 255.0\n",
        "y_train = to_categorical(y_train, num_classes)\n",
        "y_test = to_categorical(y_test, num_classes)\n",
        "\n",
        "print(X_train.shape)\n",
        "print(y_train.shape)\n",
        "print(X_test.shape)\n",
        "print(y_test.shape)"
      ],
      "execution_count": null,
      "outputs": [
        {
          "output_type": "stream",
          "text": [
            "(2660, 90, 90, 1)\n",
            "(2660, 38)\n",
            "(1140, 90, 90, 1)\n",
            "(1140, 38)\n"
          ],
          "name": "stdout"
        }
      ]
    },
    {
      "cell_type": "markdown",
      "metadata": {
        "id": "lQhU3aAWZe3u"
      },
      "source": [
        "## **Building prune model**"
      ]
    },
    {
      "cell_type": "code",
      "metadata": {
        "colab": {
          "base_uri": "https://localhost:8080/"
        },
        "id": "Bjb84p7lFe9Y",
        "outputId": "4f0b2486-bbfc-47e0-ee0e-7c112e77d25e"
      },
      "source": [
        "# Build and compile new pruned model\n",
        "import numpy as np\n",
        "import tensorflow as tf\n",
        "from tensorflow_model_optimization.sparsity import keras as sparsity\n",
        "\n",
        "# Load the serialized model\n",
        "loaded_model = tf.keras.models.load_model(keras_file)\n",
        "\n",
        "# define parameters\n",
        "epochs = 10\n",
        "num_train_samples = X_train.shape[0]\n",
        "batch_size = 100\n",
        "end_step = np.ceil(1.0 * num_train_samples / batch_size).astype(np.int32) * epochs\n",
        "print(end_step)\n",
        "\n",
        "new_pruning_params = {\n",
        "      'pruning_schedule': sparsity.PolynomialDecay(initial_sparsity=0.50,\n",
        "                                                   final_sparsity=0.90,\n",
        "                                                   begin_step=0,\n",
        "                                                   end_step=end_step,\n",
        "                                                   frequency=100)\n",
        "}\n",
        "\n",
        "new_pruned_model = sparsity.prune_low_magnitude(loaded_model, **new_pruning_params)\n",
        "new_pruned_model.summary()\n",
        "\n",
        "new_pruned_model.compile(\n",
        "    loss=tf.keras.losses.categorical_crossentropy,\n",
        "    optimizer='adam',\n",
        "    metrics=['accuracy'])"
      ],
      "execution_count": null,
      "outputs": [
        {
          "output_type": "stream",
          "text": [
            "WARNING:tensorflow:No training configuration found in the save file, so the model was *not* compiled. Compile it manually.\n"
          ],
          "name": "stdout"
        },
        {
          "output_type": "stream",
          "text": [
            "/usr/local/lib/python3.7/dist-packages/tensorflow/python/keras/engine/base_layer.py:2191: UserWarning: `layer.add_variable` is deprecated and will be removed in a future version. Please use `layer.add_weight` method instead.\n",
            "  warnings.warn('`layer.add_variable` is deprecated and '\n"
          ],
          "name": "stderr"
        },
        {
          "output_type": "stream",
          "text": [
            "Model: \"sequential_6\"\n",
            "_________________________________________________________________\n",
            "Layer (type)                 Output Shape              Param #   \n",
            "=================================================================\n",
            "prune_low_magnitude_conv2d_1 (None, 90, 90, 32)        610       \n",
            "_________________________________________________________________\n",
            "prune_low_magnitude_max_pool (None, 45, 45, 32)        1         \n",
            "_________________________________________________________________\n",
            "prune_low_magnitude_dropout_ (None, 45, 45, 32)        1         \n",
            "_________________________________________________________________\n",
            "prune_low_magnitude_conv2d_1 (None, 45, 45, 64)        36930     \n",
            "_________________________________________________________________\n",
            "prune_low_magnitude_max_pool (None, 22, 22, 64)        1         \n",
            "_________________________________________________________________\n",
            "prune_low_magnitude_dropout_ (None, 22, 22, 64)        1         \n",
            "_________________________________________________________________\n",
            "prune_low_magnitude_flatten_ (None, 30976)             1         \n",
            "_________________________________________________________________\n",
            "prune_low_magnitude_dense_12 (None, 1024)              63439874  \n",
            "_________________________________________________________________\n",
            "prune_low_magnitude_dense_13 (None, 38)                77864     \n",
            "=================================================================\n",
            "Total params: 63,555,283\n",
            "Trainable params: 31,778,214\n",
            "Non-trainable params: 31,777,069\n",
            "_________________________________________________________________\n"
          ],
          "name": "stdout"
        }
      ]
    },
    {
      "cell_type": "code",
      "metadata": {
        "colab": {
          "base_uri": "https://localhost:8080/"
        },
        "id": "L5W3i15ULbbg",
        "outputId": "4c12a585-fbbe-4d23-c556-3fc03d088339"
      },
      "source": [
        "logdir = '/content/drive/My Drive/Colab Notebooks/Capstone/testing/pruning_log'\n",
        "\n",
        "callbacks = [\n",
        "    sparsity.UpdatePruningStep(),\n",
        "    sparsity.PruningSummaries(log_dir=logdir, profile_batch=0)\n",
        "]\n",
        "\n",
        "new_pruned_model.fit(X_train, y_train,\n",
        "          epochs=epochs,\n",
        "          verbose=1,\n",
        "          callbacks=callbacks,\n",
        "          validation_data=(X_test, y_test))\n",
        "\n",
        "score = new_pruned_model.evaluate(X_test, y_test, verbose=0)\n",
        "print('Test loss:', score[0])\n",
        "print('Test accuracy:', score[1])"
      ],
      "execution_count": null,
      "outputs": [
        {
          "output_type": "stream",
          "text": [
            "Epoch 1/10\n",
            "WARNING:tensorflow:From /usr/local/lib/python3.7/dist-packages/tensorflow/python/ops/array_ops.py:5049: calling gather (from tensorflow.python.ops.array_ops) with validate_indices is deprecated and will be removed in a future version.\n",
            "Instructions for updating:\n",
            "The `validate_indices` argument has no effect. Indices are always validated on CPU and never validated on GPU.\n",
            " 5/84 [>.............................] - ETA: 2s - loss: 0.4186 - accuracy: 0.9250WARNING:tensorflow:Callback method `on_train_batch_end` is slow compared to the batch time (batch time: 0.0113s vs `on_train_batch_end` time: 0.0184s). Check your callbacks.\n",
            "84/84 [==============================] - 36s 30ms/step - loss: 0.3821 - accuracy: 0.9226 - val_loss: 1.5311 - val_accuracy: 0.7132\n",
            "Epoch 2/10\n",
            "84/84 [==============================] - 2s 28ms/step - loss: 0.3728 - accuracy: 0.9113 - val_loss: 1.5563 - val_accuracy: 0.6982\n",
            "Epoch 3/10\n",
            "84/84 [==============================] - 2s 28ms/step - loss: 0.2783 - accuracy: 0.9335 - val_loss: 1.6210 - val_accuracy: 0.7000\n",
            "Epoch 4/10\n",
            "84/84 [==============================] - 2s 28ms/step - loss: 0.2453 - accuracy: 0.9383 - val_loss: 1.5955 - val_accuracy: 0.7096\n",
            "Epoch 5/10\n",
            "84/84 [==============================] - 2s 28ms/step - loss: 0.2129 - accuracy: 0.9447 - val_loss: 1.6253 - val_accuracy: 0.7114\n",
            "Epoch 6/10\n",
            "84/84 [==============================] - 2s 29ms/step - loss: 0.2030 - accuracy: 0.9526 - val_loss: 1.5338 - val_accuracy: 0.7053\n",
            "Epoch 7/10\n",
            "84/84 [==============================] - 2s 24ms/step - loss: 0.1754 - accuracy: 0.9534 - val_loss: 1.5570 - val_accuracy: 0.7096\n",
            "Epoch 8/10\n",
            "84/84 [==============================] - 2s 28ms/step - loss: 0.1709 - accuracy: 0.9553 - val_loss: 1.5219 - val_accuracy: 0.7263\n",
            "Epoch 9/10\n",
            "84/84 [==============================] - 2s 28ms/step - loss: 0.1722 - accuracy: 0.9553 - val_loss: 1.5611 - val_accuracy: 0.7219\n",
            "Epoch 10/10\n",
            "84/84 [==============================] - 2s 28ms/step - loss: 0.2590 - accuracy: 0.9383 - val_loss: 1.7125 - val_accuracy: 0.7079\n",
            "Test loss: 1.7125016450881958\n",
            "Test accuracy: 0.7078947424888611\n"
          ],
          "name": "stdout"
        }
      ]
    },
    {
      "cell_type": "code",
      "metadata": {
        "colab": {
          "base_uri": "https://localhost:8080/"
        },
        "id": "PZm9uOKsTtvo",
        "outputId": "cfd28180-a2e1-467b-d072-3e2170ef7be1"
      },
      "source": [
        "final_model = sparsity.strip_pruning(new_pruned_model)\n",
        "final_model.summary()"
      ],
      "execution_count": null,
      "outputs": [
        {
          "output_type": "stream",
          "text": [
            "Model: \"sequential_6\"\n",
            "_________________________________________________________________\n",
            "Layer (type)                 Output Shape              Param #   \n",
            "=================================================================\n",
            "conv2d_12 (Conv2D)           (None, 90, 90, 32)        320       \n",
            "_________________________________________________________________\n",
            "max_pooling2d_12 (MaxPooling (None, 45, 45, 32)        0         \n",
            "_________________________________________________________________\n",
            "dropout_10 (Dropout)         (None, 45, 45, 32)        0         \n",
            "_________________________________________________________________\n",
            "conv2d_13 (Conv2D)           (None, 45, 45, 64)        18496     \n",
            "_________________________________________________________________\n",
            "max_pooling2d_13 (MaxPooling (None, 22, 22, 64)        0         \n",
            "_________________________________________________________________\n",
            "dropout_11 (Dropout)         (None, 22, 22, 64)        0         \n",
            "_________________________________________________________________\n",
            "flatten_6 (Flatten)          (None, 30976)             0         \n",
            "_________________________________________________________________\n",
            "dense_12 (Dense)             (None, 1024)              31720448  \n",
            "_________________________________________________________________\n",
            "dense_13 (Dense)             (None, 38)                38950     \n",
            "=================================================================\n",
            "Total params: 31,778,214\n",
            "Trainable params: 31,778,214\n",
            "Non-trainable params: 0\n",
            "_________________________________________________________________\n"
          ],
          "name": "stdout"
        }
      ]
    },
    {
      "cell_type": "markdown",
      "metadata": {
        "id": "TjqijDlVZ1PQ"
      },
      "source": [
        "## **Saving pruned model**"
      ]
    },
    {
      "cell_type": "code",
      "metadata": {
        "colab": {
          "base_uri": "https://localhost:8080/"
        },
        "id": "oVXH6PHzXGbW",
        "outputId": "814ec9d5-2694-4989-b1ed-672c5fc90f43"
      },
      "source": [
        "new_pruned_keras_file = '/content/drive/My Drive/Colab Notebooks/Capstone/testing/Outdoor_Living/outdoor_living_pruned.h5'\n",
        "print(\"Saving pruned model to: \", new_pruned_keras_file)\n",
        "tf.keras.models.save_model(final_model, new_pruned_keras_file, include_optimizer=False)"
      ],
      "execution_count": null,
      "outputs": [
        {
          "output_type": "stream",
          "text": [
            "Saving pruned model to:  /content/drive/My Drive/Colab Notebooks/Capstone/testing/Outdoor_Living/outdoor_living_pruned_256.h5\n",
            "WARNING:tensorflow:Compiled the loaded model, but the compiled metrics have yet to be built. `model.compile_metrics` will be empty until you train or evaluate the model.\n"
          ],
          "name": "stdout"
        }
      ]
    },
    {
      "cell_type": "markdown",
      "metadata": {
        "id": "rYilmVzgZ48l"
      },
      "source": [
        "## **Reducing pruned model to x5 through zip3**"
      ]
    },
    {
      "cell_type": "code",
      "metadata": {
        "colab": {
          "base_uri": "https://localhost:8080/"
        },
        "id": "24u9lAT0TxuD",
        "outputId": "3dabca59-47d1-4106-ec15-b3ae4c907931"
      },
      "source": [
        "import tempfile\n",
        "import zipfile\n",
        "import os\n",
        "\n",
        "# Zip the .h5 model file\n",
        "zip3 = '/content/drive/My Drive/Colab Notebooks/Capstone/testing/Outdoor_Living/outdoor_living_pruned.h5.zip3'\n",
        "with zipfile.ZipFile(zip3, \"w\", compression=zipfile.ZIP_DEFLATED) as f:\n",
        "    f.write(new_pruned_keras_file)\n",
        "print(\n",
        "    \"Size of the pruned model before compression: %.2f Mb\"\n",
        "    % (os.path.getsize(new_pruned_keras_file) / float(2 ** 20))\n",
        ")\n",
        "print(\n",
        "    \"Size of the pruned model after compression: %.2f Mb\"\n",
        "    % (os.path.getsize(zip3) / float(2 ** 20))\n",
        ")"
      ],
      "execution_count": null,
      "outputs": [
        {
          "output_type": "stream",
          "text": [
            "Size of the pruned model before compression: 121.25 Mb\n",
            "Size of the pruned model after compression: 51.70 Mb\n"
          ],
          "name": "stdout"
        }
      ]
    }
  ]
}